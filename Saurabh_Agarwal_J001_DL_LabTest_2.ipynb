{
  "nbformat": 4,
  "nbformat_minor": 0,
  "metadata": {
    "colab": {
      "name": "J002_Test2.ipynb",
      "provenance": [],
      "collapsed_sections": []
    },
    "kernelspec": {
      "name": "python3",
      "display_name": "Python 3"
    },
    "accelerator": "GPU"
  },
  "cells": [
    {
      "cell_type": "code",
      "metadata": {
        "id": "iZwmJGrB_0Yh",
        "colab_type": "code",
        "colab": {}
      },
      "source": [
        "import numpy as np\n",
        "import pandas as pd\n",
        "import matplotlib.pyplot as plt\n",
        "import cv2\n",
        "import os\n",
        "from sklearn.model_selection import train_test_split as tts\n",
        "from tqdm import tqdm\n",
        "from sklearn.preprocessing import LabelEncoder\n",
        "from keras.optimizers import Adam\n",
        "from keras.utils import to_categorical\n",
        "from keras.models import Sequential\n",
        "from keras.layers import Conv2D,MaxPool2D,Dropout,Dense, Flatten,Activation, MaxPooling2D"
      ],
      "execution_count": 0,
      "outputs": []
    },
    {
      "cell_type": "code",
      "metadata": {
        "id": "KbC1QVsT_7B7",
        "colab_type": "code",
        "colab": {}
      },
      "source": [
        "!wget http://weegee.vision.ucmerced.edu/datasets/UCMerced_LandUse.zip"
      ],
      "execution_count": 0,
      "outputs": []
    },
    {
      "cell_type": "code",
      "metadata": {
        "id": "mWxeanUu_-Al",
        "colab_type": "code",
        "colab": {}
      },
      "source": [
        "!unzip '/content/UCMerced_LandUse.zip'"
      ],
      "execution_count": 0,
      "outputs": []
    },
    {
      "cell_type": "code",
      "metadata": {
        "id": "YXZaeEbG_-j-",
        "colab_type": "code",
        "colab": {}
      },
      "source": [
        "agricultural='/content/UCMerced_LandUse/Images/agricultural' \n",
        "airplane='/content/UCMerced_LandUse/Images/airplane'\n",
        "baseballdiamond='/content/UCMerced_LandUse/Images/baseballdiamond'\n",
        "beach='/content/UCMerced_LandUse/Images/beach'\n",
        "buildings='/content/UCMerced_LandUse/Images/buildings'\n",
        "chaparral='/content/UCMerced_LandUse/Images/chaparral'\n",
        "denseresidential='/content/UCMerced_LandUse/Images/denseresidential'\n",
        "forest='/content/UCMerced_LandUse/Images/forest'\n",
        "freeway='/content/UCMerced_LandUse/Images/freeway'\n",
        "golfcourse='/content/UCMerced_LandUse/Images/golfcourse'\n",
        "harbor='/content/UCMerced_LandUse/Images/harbor'\n",
        "intersection='/content/UCMerced_LandUse/Images/intersection'\n",
        "mediumresidential='/content/UCMerced_LandUse/Images/mediumresidential'\n",
        "mobilehomepark='/content/UCMerced_LandUse/Images/mobilehomepark'\n",
        "overpass='/content/UCMerced_LandUse/Images/overpass'\n",
        "parkinglot='/content/UCMerced_LandUse/Images/parkinglot'\n",
        "river='/content/UCMerced_LandUse/Images/river'\n",
        "runway='/content/UCMerced_LandUse/Images/runway'\n",
        "sparseresidential='/content/UCMerced_LandUse/Images/sparseresidential'\n",
        "storagetanks='/content/UCMerced_LandUse/Images/storagetanks'\n",
        "tenniscourt='/content/UCMerced_LandUse/Images/tenniscourt'"
      ],
      "execution_count": 0,
      "outputs": []
    },
    {
      "cell_type": "code",
      "metadata": {
        "id": "5Y0Buhp9AAPa",
        "colab_type": "code",
        "colab": {}
      },
      "source": [
        "Size = 150\n",
        "A = []\n",
        "B = []"
      ],
      "execution_count": 0,
      "outputs": []
    },
    {
      "cell_type": "code",
      "metadata": {
        "id": "ZLcrFEO-ACN6",
        "colab_type": "code",
        "colab": {}
      },
      "source": [
        "def labels(image,land):\n",
        "    return land"
      ],
      "execution_count": 0,
      "outputs": []
    },
    {
      "cell_type": "code",
      "metadata": {
        "id": "14c3QPauAEBs",
        "colab_type": "code",
        "colab": {}
      },
      "source": [
        "def pre(land,chg):\n",
        "    for image in tqdm(os.listdir(chg)):\n",
        "        label=labels(image,land)\n",
        "        path = os.path.join(chg,image)\n",
        "        image = cv2.imread(path,cv2.IMREAD_COLOR)\n",
        "        image = cv2.resize(image, (Size,Size))\n",
        "        A.append(np.array(image))\n",
        "        B.append(str(label))"
      ],
      "execution_count": 0,
      "outputs": []
    },
    {
      "cell_type": "code",
      "metadata": {
        "id": "ZrfCb2QLAFws",
        "colab_type": "code",
        "outputId": "771ccbe5-2dda-4a55-c7da-c2d07d1a0ace",
        "colab": {
          "base_uri": "https://localhost:8080/",
          "height": 34
        }
      },
      "source": [
        "pre('Agricultural',agricultural)"
      ],
      "execution_count": 0,
      "outputs": [
        {
          "output_type": "stream",
          "text": [
            "100%|██████████| 100/100 [00:00<00:00, 1652.13it/s]\n"
          ],
          "name": "stderr"
        }
      ]
    },
    {
      "cell_type": "code",
      "metadata": {
        "id": "4p-_PcP7AJxh",
        "colab_type": "code",
        "outputId": "9160de6f-1c32-4be9-da3f-cec16c9bc7d3",
        "colab": {
          "base_uri": "https://localhost:8080/",
          "height": 357
        }
      },
      "source": [
        "#pre('Agricultural',agricultural)\n",
        "pre('Airplane',airplane)\n",
        "pre('BaseballDiamond',baseballdiamond)\n",
        "pre('Beach',beach)\n",
        "pre('Buildings',buildings)\n",
        "pre('Chaparral',chaparral)\n",
        "pre('DenseResidential',denseresidential)\n",
        "pre('Forest',forest)\n",
        "pre('Freeway',freeway)\n",
        "pre('Golfcourse',golfcourse)\n",
        "pre('Harbor',harbor)\n",
        "pre('Intersection',intersection)\n",
        "pre('MediumResidential',mediumresidential)\n",
        "pre('MobileHomePark',mobilehomepark)\n",
        "pre('Overpass',overpass)\n",
        "pre('ParkingLot',parkinglot)\n",
        "pre('River',river)\n",
        "pre('Runway',runway)\n",
        "pre('SparseResidential',sparseresidential)\n",
        "pre('StorageTanks',storagetanks)\n",
        "pre('TennisCourt',tenniscourt)"
      ],
      "execution_count": 0,
      "outputs": [
        {
          "output_type": "stream",
          "text": [
            "100%|██████████| 100/100 [00:00<00:00, 1721.14it/s]\n",
            "100%|██████████| 100/100 [00:00<00:00, 1967.53it/s]\n",
            "100%|██████████| 100/100 [00:00<00:00, 1804.23it/s]\n",
            "100%|██████████| 100/100 [00:00<00:00, 1838.12it/s]\n",
            "100%|██████████| 100/100 [00:00<00:00, 1762.11it/s]\n",
            "100%|██████████| 100/100 [00:00<00:00, 1923.97it/s]\n",
            "100%|██████████| 100/100 [00:00<00:00, 1987.41it/s]\n",
            "100%|██████████| 100/100 [00:00<00:00, 1951.11it/s]\n",
            "100%|██████████| 100/100 [00:00<00:00, 1977.51it/s]\n",
            "100%|██████████| 100/100 [00:00<00:00, 1894.96it/s]\n",
            "100%|██████████| 100/100 [00:00<00:00, 1877.13it/s]\n",
            "100%|██████████| 100/100 [00:00<00:00, 1955.18it/s]\n",
            "100%|██████████| 100/100 [00:00<00:00, 1955.32it/s]\n",
            "100%|██████████| 100/100 [00:00<00:00, 1936.71it/s]\n",
            "100%|██████████| 100/100 [00:00<00:00, 1956.02it/s]\n",
            "100%|██████████| 100/100 [00:00<00:00, 1937.68it/s]\n",
            "100%|██████████| 100/100 [00:00<00:00, 1921.57it/s]\n",
            "100%|██████████| 100/100 [00:00<00:00, 1948.12it/s]\n",
            "100%|██████████| 100/100 [00:00<00:00, 1780.04it/s]\n",
            "100%|██████████| 100/100 [00:00<00:00, 1940.54it/s]\n"
          ],
          "name": "stderr"
        }
      ]
    },
    {
      "cell_type": "code",
      "metadata": {
        "id": "9C4ahlDiAKLZ",
        "colab_type": "code",
        "colab": {}
      },
      "source": [
        "encoder=LabelEncoder()\n",
        "Y=encoder.fit_transform(B)\n",
        "Y=to_categorical(Y,21)\n",
        "A=np.array(A)\n",
        "A=A/255"
      ],
      "execution_count": 0,
      "outputs": []
    },
    {
      "cell_type": "code",
      "metadata": {
        "id": "F4AF8U2eASvl",
        "colab_type": "code",
        "colab": {}
      },
      "source": [
        "X_train,X_test,y_train,y_test = tts(A,Y,test_size=0.20,random_state=53)"
      ],
      "execution_count": 0,
      "outputs": []
    },
    {
      "cell_type": "code",
      "metadata": {
        "id": "pXw-u_LUAUZg",
        "colab_type": "code",
        "outputId": "37ac298c-9c0b-4247-d12f-42fc53771f1f",
        "colab": {
          "base_uri": "https://localhost:8080/",
          "height": 173
        }
      },
      "source": [
        "model = Sequential()\n",
        "model.add(Conv2D(filters = 32, kernel_size = (5,5),padding = 'Same',activation ='relu', input_shape = (150,150,3)))\n",
        "model.add(MaxPooling2D(pool_size=(2,2)))\n",
        "\n",
        "model.add(Conv2D(filters = 64, kernel_size = (3,3),padding = 'Same',activation ='relu'))\n",
        "model.add(MaxPooling2D(pool_size=(2,2), strides=(2,2)))\n",
        " \n",
        "model.add(Conv2D(filters =96, kernel_size = (3,3),padding = 'Same',activation ='relu'))\n",
        "model.add(MaxPooling2D(pool_size=(2,2), strides=(2,2)))\n",
        "\n",
        "model.add(Conv2D(filters = 96, kernel_size = (3,3),padding = 'Same',activation ='relu'))\n",
        "model.add(MaxPooling2D(pool_size=(2,2), strides=(2,2)))\n",
        "\n",
        "model.add(Flatten())\n",
        "model.add(Dense(512))\n",
        "model.add(Activation('relu'))\n",
        "model.add(Dense(21, activation = \"softmax\"))"
      ],
      "execution_count": 0,
      "outputs": [
        {
          "output_type": "stream",
          "text": [
            "WARNING:tensorflow:From /usr/local/lib/python3.6/dist-packages/keras/backend/tensorflow_backend.py:66: The name tf.get_default_graph is deprecated. Please use tf.compat.v1.get_default_graph instead.\n",
            "\n",
            "WARNING:tensorflow:From /usr/local/lib/python3.6/dist-packages/keras/backend/tensorflow_backend.py:541: The name tf.placeholder is deprecated. Please use tf.compat.v1.placeholder instead.\n",
            "\n",
            "WARNING:tensorflow:From /usr/local/lib/python3.6/dist-packages/keras/backend/tensorflow_backend.py:4432: The name tf.random_uniform is deprecated. Please use tf.random.uniform instead.\n",
            "\n",
            "WARNING:tensorflow:From /usr/local/lib/python3.6/dist-packages/keras/backend/tensorflow_backend.py:4267: The name tf.nn.max_pool is deprecated. Please use tf.nn.max_pool2d instead.\n",
            "\n"
          ],
          "name": "stdout"
        }
      ]
    },
    {
      "cell_type": "code",
      "metadata": {
        "id": "B-pcxu3SAV8m",
        "colab_type": "code",
        "outputId": "38419f0c-f991-4954-9c70-b798ed524463",
        "colab": {
          "base_uri": "https://localhost:8080/",
          "height": 156
        }
      },
      "source": [
        "model.compile(optimizer='adam',loss='binary_crossentropy',metrics=['accuracy'])"
      ],
      "execution_count": 0,
      "outputs": [
        {
          "output_type": "stream",
          "text": [
            "WARNING:tensorflow:From /usr/local/lib/python3.6/dist-packages/keras/optimizers.py:793: The name tf.train.Optimizer is deprecated. Please use tf.compat.v1.train.Optimizer instead.\n",
            "\n",
            "WARNING:tensorflow:From /usr/local/lib/python3.6/dist-packages/keras/backend/tensorflow_backend.py:3657: The name tf.log is deprecated. Please use tf.math.log instead.\n",
            "\n",
            "WARNING:tensorflow:From /usr/local/lib/python3.6/dist-packages/tensorflow_core/python/ops/nn_impl.py:183: where (from tensorflow.python.ops.array_ops) is deprecated and will be removed in a future version.\n",
            "Instructions for updating:\n",
            "Use tf.where in 2.0, which has the same broadcast rule as np.where\n"
          ],
          "name": "stdout"
        }
      ]
    },
    {
      "cell_type": "code",
      "metadata": {
        "id": "hdTLxfHqAX01",
        "colab_type": "code",
        "outputId": "1cc59293-5e76-49c8-e162-37b85454ff69",
        "colab": {
          "base_uri": "https://localhost:8080/",
          "height": 1000
        }
      },
      "source": [
        "History = model.fit(X_train,y_train,epochs=60,batch_size=21,validation_data = (X_test,y_test))"
      ],
      "execution_count": 0,
      "outputs": [
        {
          "output_type": "stream",
          "text": [
            "Train on 1680 samples, validate on 420 samples\n",
            "Epoch 1/60\n",
            "1680/1680 [==============================] - 2s 1ms/step - loss: 6.8634e-06 - acc: 1.0000 - val_loss: 0.2632 - val_acc: 0.9593\n",
            "Epoch 2/60\n",
            "1680/1680 [==============================] - 2s 1ms/step - loss: 5.7065e-06 - acc: 1.0000 - val_loss: 0.2641 - val_acc: 0.9599\n",
            "Epoch 3/60\n",
            "1680/1680 [==============================] - 2s 1ms/step - loss: 4.8014e-06 - acc: 1.0000 - val_loss: 0.2646 - val_acc: 0.9598\n",
            "Epoch 4/60\n",
            "1680/1680 [==============================] - 2s 1ms/step - loss: 4.0971e-06 - acc: 1.0000 - val_loss: 0.2652 - val_acc: 0.9598\n",
            "Epoch 5/60\n",
            "1680/1680 [==============================] - 2s 993us/step - loss: 3.5269e-06 - acc: 1.0000 - val_loss: 0.2661 - val_acc: 0.9596\n",
            "Epoch 6/60\n",
            "1680/1680 [==============================] - 2s 1ms/step - loss: 3.1148e-06 - acc: 1.0000 - val_loss: 0.2661 - val_acc: 0.9598\n",
            "Epoch 7/60\n",
            "1680/1680 [==============================] - 2s 1ms/step - loss: 2.7707e-06 - acc: 1.0000 - val_loss: 0.2668 - val_acc: 0.9598\n",
            "Epoch 8/60\n",
            "1680/1680 [==============================] - 2s 988us/step - loss: 2.4689e-06 - acc: 1.0000 - val_loss: 0.2675 - val_acc: 0.9596\n",
            "Epoch 9/60\n",
            "1680/1680 [==============================] - 2s 1ms/step - loss: 2.2286e-06 - acc: 1.0000 - val_loss: 0.2672 - val_acc: 0.9600\n",
            "Epoch 10/60\n",
            "1680/1680 [==============================] - 2s 994us/step - loss: 1.9985e-06 - acc: 1.0000 - val_loss: 0.2681 - val_acc: 0.9598\n",
            "Epoch 11/60\n",
            "1680/1680 [==============================] - 2s 1ms/step - loss: 1.8396e-06 - acc: 1.0000 - val_loss: 0.2682 - val_acc: 0.9598\n",
            "Epoch 12/60\n",
            "1680/1680 [==============================] - 2s 1ms/step - loss: 1.6676e-06 - acc: 1.0000 - val_loss: 0.2683 - val_acc: 0.9599\n",
            "Epoch 13/60\n",
            "1680/1680 [==============================] - 2s 995us/step - loss: 1.5423e-06 - acc: 1.0000 - val_loss: 0.2682 - val_acc: 0.9599\n",
            "Epoch 14/60\n",
            "1680/1680 [==============================] - 2s 988us/step - loss: 1.4023e-06 - acc: 1.0000 - val_loss: 0.2686 - val_acc: 0.9598\n",
            "Epoch 15/60\n",
            "1680/1680 [==============================] - 2s 993us/step - loss: 1.2877e-06 - acc: 1.0000 - val_loss: 0.2685 - val_acc: 0.9599\n",
            "Epoch 16/60\n",
            "1680/1680 [==============================] - 2s 987us/step - loss: 1.1960e-06 - acc: 1.0000 - val_loss: 0.2685 - val_acc: 0.9599\n",
            "Epoch 17/60\n",
            "1680/1680 [==============================] - 2s 989us/step - loss: 1.1121e-06 - acc: 1.0000 - val_loss: 0.2686 - val_acc: 0.9601\n",
            "Epoch 18/60\n",
            "1680/1680 [==============================] - 2s 984us/step - loss: 1.0296e-06 - acc: 1.0000 - val_loss: 0.2691 - val_acc: 0.9601\n",
            "Epoch 19/60\n",
            "1680/1680 [==============================] - 2s 1ms/step - loss: 9.6757e-07 - acc: 1.0000 - val_loss: 0.2689 - val_acc: 0.9601\n",
            "Epoch 20/60\n",
            "1680/1680 [==============================] - 2s 1ms/step - loss: 9.0893e-07 - acc: 1.0000 - val_loss: 0.2692 - val_acc: 0.9601\n",
            "Epoch 21/60\n",
            "1680/1680 [==============================] - 2s 1ms/step - loss: 8.5346e-07 - acc: 1.0000 - val_loss: 0.2692 - val_acc: 0.9601\n",
            "Epoch 22/60\n",
            "1680/1680 [==============================] - 2s 1ms/step - loss: 8.0671e-07 - acc: 1.0000 - val_loss: 0.2689 - val_acc: 0.9603\n",
            "Epoch 23/60\n",
            "1680/1680 [==============================] - 2s 1ms/step - loss: 7.5404e-07 - acc: 1.0000 - val_loss: 0.2691 - val_acc: 0.9603\n",
            "Epoch 24/60\n",
            "1680/1680 [==============================] - 2s 1ms/step - loss: 7.1845e-07 - acc: 1.0000 - val_loss: 0.2696 - val_acc: 0.9601\n",
            "Epoch 25/60\n",
            "1680/1680 [==============================] - 2s 1ms/step - loss: 6.8079e-07 - acc: 1.0000 - val_loss: 0.2695 - val_acc: 0.9601\n",
            "Epoch 26/60\n",
            "1680/1680 [==============================] - 2s 995us/step - loss: 6.4120e-07 - acc: 1.0000 - val_loss: 0.2696 - val_acc: 0.9602\n",
            "Epoch 27/60\n",
            "1680/1680 [==============================] - 2s 997us/step - loss: 6.1133e-07 - acc: 1.0000 - val_loss: 0.2698 - val_acc: 0.9603\n",
            "Epoch 28/60\n",
            "1680/1680 [==============================] - 2s 1ms/step - loss: 5.8380e-07 - acc: 1.0000 - val_loss: 0.2700 - val_acc: 0.9603\n",
            "Epoch 29/60\n",
            "1680/1680 [==============================] - 2s 971us/step - loss: 5.5465e-07 - acc: 1.0000 - val_loss: 0.2703 - val_acc: 0.9605\n",
            "Epoch 30/60\n",
            "1680/1680 [==============================] - 2s 978us/step - loss: 5.3213e-07 - acc: 1.0000 - val_loss: 0.2704 - val_acc: 0.9607\n",
            "Epoch 31/60\n",
            "1680/1680 [==============================] - 2s 1000us/step - loss: 5.0467e-07 - acc: 1.0000 - val_loss: 0.2702 - val_acc: 0.9605\n",
            "Epoch 32/60\n",
            "1680/1680 [==============================] - 2s 990us/step - loss: 4.8435e-07 - acc: 1.0000 - val_loss: 0.2705 - val_acc: 0.9607\n",
            "Epoch 33/60\n",
            "1680/1680 [==============================] - 2s 1ms/step - loss: 4.6321e-07 - acc: 1.0000 - val_loss: 0.2706 - val_acc: 0.9605\n",
            "Epoch 34/60\n",
            "1680/1680 [==============================] - 2s 984us/step - loss: 4.4369e-07 - acc: 1.0000 - val_loss: 0.2709 - val_acc: 0.9605\n",
            "Epoch 35/60\n",
            "1680/1680 [==============================] - 2s 986us/step - loss: 4.2824e-07 - acc: 1.0000 - val_loss: 0.2709 - val_acc: 0.9604\n",
            "Epoch 36/60\n",
            "1680/1680 [==============================] - 2s 977us/step - loss: 4.0896e-07 - acc: 1.0000 - val_loss: 0.2713 - val_acc: 0.9604\n",
            "Epoch 37/60\n",
            "1680/1680 [==============================] - 2s 1ms/step - loss: 3.9302e-07 - acc: 1.0000 - val_loss: 0.2713 - val_acc: 0.9607\n",
            "Epoch 38/60\n",
            "1680/1680 [==============================] - 2s 1ms/step - loss: 3.7754e-07 - acc: 1.0000 - val_loss: 0.2714 - val_acc: 0.9607\n",
            "Epoch 39/60\n",
            "1680/1680 [==============================] - 2s 985us/step - loss: 3.6471e-07 - acc: 1.0000 - val_loss: 0.2718 - val_acc: 0.9607\n",
            "Epoch 40/60\n",
            "1680/1680 [==============================] - 2s 989us/step - loss: 3.5105e-07 - acc: 1.0000 - val_loss: 0.2720 - val_acc: 0.9604\n",
            "Epoch 41/60\n",
            "1680/1680 [==============================] - 2s 976us/step - loss: 3.4050e-07 - acc: 1.0000 - val_loss: 0.2720 - val_acc: 0.9607\n",
            "Epoch 42/60\n",
            "1680/1680 [==============================] - 2s 974us/step - loss: 3.2685e-07 - acc: 1.0000 - val_loss: 0.2723 - val_acc: 0.9607\n",
            "Epoch 43/60\n",
            "1680/1680 [==============================] - 2s 980us/step - loss: 3.1725e-07 - acc: 1.0000 - val_loss: 0.2724 - val_acc: 0.9607\n",
            "Epoch 44/60\n",
            "1680/1680 [==============================] - 2s 976us/step - loss: 3.0633e-07 - acc: 1.0000 - val_loss: 0.2728 - val_acc: 0.9607\n",
            "Epoch 45/60\n",
            "1680/1680 [==============================] - 2s 976us/step - loss: 2.9638e-07 - acc: 1.0000 - val_loss: 0.2728 - val_acc: 0.9605\n",
            "Epoch 46/60\n",
            "1680/1680 [==============================] - 2s 986us/step - loss: 2.8666e-07 - acc: 1.0000 - val_loss: 0.2731 - val_acc: 0.9604\n",
            "Epoch 47/60\n",
            "1680/1680 [==============================] - 2s 976us/step - loss: 2.7846e-07 - acc: 1.0000 - val_loss: 0.2734 - val_acc: 0.9603\n",
            "Epoch 48/60\n",
            "1680/1680 [==============================] - 2s 968us/step - loss: 2.7040e-07 - acc: 1.0000 - val_loss: 0.2735 - val_acc: 0.9604\n",
            "Epoch 49/60\n",
            "1680/1680 [==============================] - 2s 968us/step - loss: 2.6325e-07 - acc: 1.0000 - val_loss: 0.2739 - val_acc: 0.9604\n",
            "Epoch 50/60\n",
            "1680/1680 [==============================] - 2s 977us/step - loss: 2.5538e-07 - acc: 1.0000 - val_loss: 0.2741 - val_acc: 0.9604\n",
            "Epoch 51/60\n",
            "1680/1680 [==============================] - 2s 984us/step - loss: 2.4819e-07 - acc: 1.0000 - val_loss: 0.2743 - val_acc: 0.9604\n",
            "Epoch 52/60\n",
            "1680/1680 [==============================] - 2s 974us/step - loss: 2.4221e-07 - acc: 1.0000 - val_loss: 0.2744 - val_acc: 0.9604\n",
            "Epoch 53/60\n",
            "1680/1680 [==============================] - 2s 972us/step - loss: 2.3537e-07 - acc: 1.0000 - val_loss: 0.2748 - val_acc: 0.9604\n",
            "Epoch 54/60\n",
            "1680/1680 [==============================] - 2s 982us/step - loss: 2.2925e-07 - acc: 1.0000 - val_loss: 0.2750 - val_acc: 0.9607\n",
            "Epoch 55/60\n",
            "1680/1680 [==============================] - 2s 974us/step - loss: 2.2373e-07 - acc: 1.0000 - val_loss: 0.2751 - val_acc: 0.9605\n",
            "Epoch 56/60\n",
            "1680/1680 [==============================] - 2s 983us/step - loss: 2.1895e-07 - acc: 1.0000 - val_loss: 0.2755 - val_acc: 0.9605\n",
            "Epoch 57/60\n",
            "1680/1680 [==============================] - 2s 989us/step - loss: 2.1327e-07 - acc: 1.0000 - val_loss: 0.2757 - val_acc: 0.9608\n",
            "Epoch 58/60\n",
            "1680/1680 [==============================] - 2s 981us/step - loss: 2.0794e-07 - acc: 1.0000 - val_loss: 0.2760 - val_acc: 0.9608\n",
            "Epoch 59/60\n",
            "1680/1680 [==============================] - 2s 991us/step - loss: 2.0318e-07 - acc: 1.0000 - val_loss: 0.2761 - val_acc: 0.9608\n",
            "Epoch 60/60\n",
            "1680/1680 [==============================] - 2s 1ms/step - loss: 1.9882e-07 - acc: 1.0000 - val_loss: 0.2763 - val_acc: 0.9608\n"
          ],
          "name": "stdout"
        }
      ]
    },
    {
      "cell_type": "code",
      "metadata": {
        "id": "yBTpWDpfAZrl",
        "colab_type": "code",
        "outputId": "957886b2-857c-4225-eb5c-6ad8a4e080e4",
        "colab": {
          "base_uri": "https://localhost:8080/",
          "height": 573
        }
      },
      "source": [
        "plt.plot(History.history['acc'])\n",
        "plt.plot(History.history['val_acc'])\n",
        "plt.title('Model accuracy')\n",
        "plt.ylabel('Accuracy')\n",
        "plt.xlabel('Epoch')\n",
        "plt.legend(['Train', 'Test'], loc='upper left')\n",
        "plt.show()\n",
        "\n",
        "\n",
        "plt.plot(History.history['loss'])\n",
        "plt.plot(History.history['val_loss'])\n",
        "plt.title('Model loss')\n",
        "plt.ylabel('Loss')\n",
        "plt.xlabel('Epoch'  )\n",
        "plt.legend(['Train', 'Test'], loc='upper left')\n",
        "plt.show()"
      ],
      "execution_count": 0,
      "outputs": [
        {
          "output_type": "display_data",
          "data": {
            "image/png": "[encoded data removed]",
            "text/plain": [
              "<Figure size 432x288 with 1 Axes>"
            ]
          },
          "metadata": {
            "tags": []
          }
        },
        {
          "output_type": "display_data",
          "data": {
            "image/png": "[encoded data removed]",
            "text/plain": [
              "<Figure size 432x288 with 1 Axes>"
            ]
          },
          "metadata": {
            "tags": []
          }
        }
      ]
    },
    {
      "cell_type": "code",
      "metadata": {
        "id": "uOS5ozkFAdMS",
        "colab_type": "code",
        "colab": {}
      },
      "source": [
        "y_pred = model.predict(X_test)"
      ],
      "execution_count": 0,
      "outputs": []
    },
    {
      "cell_type": "code",
      "metadata": {
        "id": "IOckRwllAim6",
        "colab_type": "code",
        "colab": {}
      },
      "source": [
        "import seaborn as sns"
      ],
      "execution_count": 0,
      "outputs": []
    },
    {
      "cell_type": "code",
      "metadata": {
        "id": "IjN3FuCOAk4N",
        "colab_type": "code",
        "outputId": "c1f520a8-7327-4109-c32a-6b57c9a4893e",
        "colab": {
          "base_uri": "https://localhost:8080/",
          "height": 948
        }
      },
      "source": [
        "from sklearn.metrics import confusion_matrix\n",
        "y_true = np.argmax(y_test,axis = 1) \n",
        "y_pred_classes = np.argmax(y_pred,axis = 1) \n",
        "cm = confusion_matrix(y_true, y_pred_classes)\n",
        "plt.subplots(figsize=(16, 16))\n",
        "sns.heatmap(cm, annot=True, linewidths=0.01,linecolor=\"white\")\n",
        "plt.xlabel(\"Predicted Label\")\n",
        "plt.ylabel(\"True Label\")\n",
        "plt.title(\"Confusion Matrix\")\n",
        "plt.show()"
      ],
      "execution_count": 0,
      "outputs": [
        {
          "output_type": "display_data",
          "data": {
            "image/png": "[encoded data removed]",
            "text/plain": [
              "<Figure size 1152x1152 with 2 Axes>"
            ]
          },
          "metadata": {
            "tags": []
          }
        }
      ]
    },
    {
      "cell_type": "code",
      "metadata": {
        "id": "Aui60_5HAqTr",
        "colab_type": "code",
        "outputId": "f1adb528-e43a-4b19-d8f4-f2d6c72469e3",
        "colab": {
          "base_uri": "https://localhost:8080/",
          "height": 561
        }
      },
      "source": [
        "model.summary()"
      ],
      "execution_count": 0,
      "outputs": [
        {
          "output_type": "stream",
          "text": [
            "Model: \"sequential_1\"\n",
            "_________________________________________________________________\n",
            "Layer (type)                 Output Shape              Param #   \n",
            "=================================================================\n",
            "conv2d_1 (Conv2D)            (None, 150, 150, 32)      2432      \n",
            "_________________________________________________________________\n",
            "max_pooling2d_1 (MaxPooling2 (None, 75, 75, 32)        0         \n",
            "_________________________________________________________________\n",
            "conv2d_2 (Conv2D)            (None, 75, 75, 64)        18496     \n",
            "_________________________________________________________________\n",
            "max_pooling2d_2 (MaxPooling2 (None, 37, 37, 64)        0         \n",
            "_________________________________________________________________\n",
            "conv2d_3 (Conv2D)            (None, 37, 37, 96)        55392     \n",
            "_________________________________________________________________\n",
            "max_pooling2d_3 (MaxPooling2 (None, 18, 18, 96)        0         \n",
            "_________________________________________________________________\n",
            "conv2d_4 (Conv2D)            (None, 18, 18, 96)        83040     \n",
            "_________________________________________________________________\n",
            "max_pooling2d_4 (MaxPooling2 (None, 9, 9, 96)          0         \n",
            "_________________________________________________________________\n",
            "flatten_1 (Flatten)          (None, 7776)              0         \n",
            "_________________________________________________________________\n",
            "dense_1 (Dense)              (None, 512)               3981824   \n",
            "_________________________________________________________________\n",
            "activation_1 (Activation)    (None, 512)               0         \n",
            "_________________________________________________________________\n",
            "dense_2 (Dense)              (None, 21)                10773     \n",
            "=================================================================\n",
            "Total params: 4,151,957\n",
            "Trainable params: 4,151,957\n",
            "Non-trainable params: 0\n",
            "_________________________________________________________________\n"
          ],
          "name": "stdout"
        }
      ]
    },
    {
      "cell_type": "code",
      "metadata": {
        "id": "StX0xh5uBuEl",
        "colab_type": "code",
        "outputId": "0ee606be-f7c6-4908-8214-daacd750efdc",
        "colab": {
          "base_uri": "https://localhost:8080/",
          "height": 1000
        }
      },
      "source": [
        "from IPython.display import SVG\n",
        "from keras.utils.vis_utils import model_to_dot\n",
        "SVG(model_to_dot(model).create(prog='dot', format='svg'))"
      ],
      "execution_count": 0,
      "outputs": [
        {
          "output_type": "execute_result",
          "data": {
            "text/plain": [
              "<IPython.core.display.SVG object>"
            ],
            "image/svg+xml": "<svg height=\"1228pt\" viewBox=\"0.00 0.00 229.00 921.00\" width=\"305pt\" xmlns=\"http://www.w3.org/2000/svg\" xmlns:xlink=\"http://www.w3.org/1999/xlink\">\n<g class=\"graph\" id=\"graph0\" transform=\"scale(1.3333 1.3333) rotate(0) translate(4 917)\">\n<title>G</title>\n<polygon fill=\"#ffffff\" points=\"-4,4 -4,-917 225,-917 225,4 -4,4\" stroke=\"transparent\"/>\n<!-- 140473913860224 -->\n<g class=\"node\" id=\"node1\">\n<title>140473913860224</title>\n<polygon fill=\"none\" points=\"18.5,-876.5 18.5,-912.5 202.5,-912.5 202.5,-876.5 18.5,-876.5\" stroke=\"#000000\"/>\n<text fill=\"#000000\" font-family=\"Times,serif\" font-size=\"14.00\" text-anchor=\"middle\" x=\"110.5\" y=\"-890.8\">conv2d_1_input: InputLayer</text>\n</g>\n<!-- 140473913862520 -->\n<g class=\"node\" id=\"node2\">\n<title>140473913862520</title>\n<polygon fill=\"none\" points=\"44,-803.5 44,-839.5 177,-839.5 177,-803.5 44,-803.5\" stroke=\"#000000\"/>\n<text fill=\"#000000\" font-family=\"Times,serif\" font-size=\"14.00\" text-anchor=\"middle\" x=\"110.5\" y=\"-817.8\">conv2d_1: Conv2D</text>\n</g>\n<!-- 140473913860224&#45;&gt;140473913862520 -->\n<g class=\"edge\" id=\"edge1\">\n<title>140473913860224-&gt;140473913862520</title>\n<path d=\"M110.5,-876.4551C110.5,-868.3828 110.5,-858.6764 110.5,-849.6817\" fill=\"none\" stroke=\"#000000\"/>\n<polygon fill=\"#000000\" points=\"114.0001,-849.5903 110.5,-839.5904 107.0001,-849.5904 114.0001,-849.5903\" stroke=\"#000000\"/>\n</g>\n<!-- 140473823238688 -->\n<g class=\"node\" id=\"node3\">\n<title>140473823238688</title>\n<polygon fill=\"none\" points=\"0,-730.5 0,-766.5 221,-766.5 221,-730.5 0,-730.5\" stroke=\"#000000\"/>\n<text fill=\"#000000\" font-family=\"Times,serif\" font-size=\"14.00\" text-anchor=\"middle\" x=\"110.5\" y=\"-744.8\">max_pooling2d_1: MaxPooling2D</text>\n</g>\n<!-- 140473913862520&#45;&gt;140473823238688 -->\n<g class=\"edge\" id=\"edge2\">\n<title>140473913862520-&gt;140473823238688</title>\n<path d=\"M110.5,-803.4551C110.5,-795.3828 110.5,-785.6764 110.5,-776.6817\" fill=\"none\" stroke=\"#000000\"/>\n<polygon fill=\"#000000\" points=\"114.0001,-776.5903 110.5,-766.5904 107.0001,-776.5904 114.0001,-776.5903\" stroke=\"#000000\"/>\n</g>\n<!-- 140473913861008 -->\n<g class=\"node\" id=\"node4\">\n<title>140473913861008</title>\n<polygon fill=\"none\" points=\"44,-657.5 44,-693.5 177,-693.5 177,-657.5 44,-657.5\" stroke=\"#000000\"/>\n<text fill=\"#000000\" font-family=\"Times,serif\" font-size=\"14.00\" text-anchor=\"middle\" x=\"110.5\" y=\"-671.8\">conv2d_2: Conv2D</text>\n</g>\n<!-- 140473823238688&#45;&gt;140473913861008 -->\n<g class=\"edge\" id=\"edge3\">\n<title>140473823238688-&gt;140473913861008</title>\n<path d=\"M110.5,-730.4551C110.5,-722.3828 110.5,-712.6764 110.5,-703.6817\" fill=\"none\" stroke=\"#000000\"/>\n<polygon fill=\"#000000\" points=\"114.0001,-703.5903 110.5,-693.5904 107.0001,-703.5904 114.0001,-703.5903\" stroke=\"#000000\"/>\n</g>\n<!-- 140473823287672 -->\n<g class=\"node\" id=\"node5\">\n<title>140473823287672</title>\n<polygon fill=\"none\" points=\"0,-584.5 0,-620.5 221,-620.5 221,-584.5 0,-584.5\" stroke=\"#000000\"/>\n<text fill=\"#000000\" font-family=\"Times,serif\" font-size=\"14.00\" text-anchor=\"middle\" x=\"110.5\" y=\"-598.8\">max_pooling2d_2: MaxPooling2D</text>\n</g>\n<!-- 140473913861008&#45;&gt;140473823287672 -->\n<g class=\"edge\" id=\"edge4\">\n<title>140473913861008-&gt;140473823287672</title>\n<path d=\"M110.5,-657.4551C110.5,-649.3828 110.5,-639.6764 110.5,-630.6817\" fill=\"none\" stroke=\"#000000\"/>\n<polygon fill=\"#000000\" points=\"114.0001,-630.5903 110.5,-620.5904 107.0001,-630.5904 114.0001,-630.5903\" stroke=\"#000000\"/>\n</g>\n<!-- 140473823238016 -->\n<g class=\"node\" id=\"node6\">\n<title>140473823238016</title>\n<polygon fill=\"none\" points=\"44,-511.5 44,-547.5 177,-547.5 177,-511.5 44,-511.5\" stroke=\"#000000\"/>\n<text fill=\"#000000\" font-family=\"Times,serif\" font-size=\"14.00\" text-anchor=\"middle\" x=\"110.5\" y=\"-525.8\">conv2d_3: Conv2D</text>\n</g>\n<!-- 140473823287672&#45;&gt;140473823238016 -->\n<g class=\"edge\" id=\"edge5\">\n<title>140473823287672-&gt;140473823238016</title>\n<path d=\"M110.5,-584.4551C110.5,-576.3828 110.5,-566.6764 110.5,-557.6817\" fill=\"none\" stroke=\"#000000\"/>\n<polygon fill=\"#000000\" points=\"114.0001,-557.5903 110.5,-547.5904 107.0001,-557.5904 114.0001,-557.5903\" stroke=\"#000000\"/>\n</g>\n<!-- 140473823339912 -->\n<g class=\"node\" id=\"node7\">\n<title>140473823339912</title>\n<polygon fill=\"none\" points=\"0,-438.5 0,-474.5 221,-474.5 221,-438.5 0,-438.5\" stroke=\"#000000\"/>\n<text fill=\"#000000\" font-family=\"Times,serif\" font-size=\"14.00\" text-anchor=\"middle\" x=\"110.5\" y=\"-452.8\">max_pooling2d_3: MaxPooling2D</text>\n</g>\n<!-- 140473823238016&#45;&gt;140473823339912 -->\n<g class=\"edge\" id=\"edge6\">\n<title>140473823238016-&gt;140473823339912</title>\n<path d=\"M110.5,-511.4551C110.5,-503.3828 110.5,-493.6764 110.5,-484.6817\" fill=\"none\" stroke=\"#000000\"/>\n<polygon fill=\"#000000\" points=\"114.0001,-484.5903 110.5,-474.5904 107.0001,-484.5904 114.0001,-484.5903\" stroke=\"#000000\"/>\n</g>\n<!-- 140473823337328 -->\n<g class=\"node\" id=\"node8\">\n<title>140473823337328</title>\n<polygon fill=\"none\" points=\"44,-365.5 44,-401.5 177,-401.5 177,-365.5 44,-365.5\" stroke=\"#000000\"/>\n<text fill=\"#000000\" font-family=\"Times,serif\" font-size=\"14.00\" text-anchor=\"middle\" x=\"110.5\" y=\"-379.8\">conv2d_4: Conv2D</text>\n</g>\n<!-- 140473823339912&#45;&gt;140473823337328 -->\n<g class=\"edge\" id=\"edge7\">\n<title>140473823339912-&gt;140473823337328</title>\n<path d=\"M110.5,-438.4551C110.5,-430.3828 110.5,-420.6764 110.5,-411.6817\" fill=\"none\" stroke=\"#000000\"/>\n<polygon fill=\"#000000\" points=\"114.0001,-411.5903 110.5,-401.5904 107.0001,-411.5904 114.0001,-411.5903\" stroke=\"#000000\"/>\n</g>\n<!-- 140473823384184 -->\n<g class=\"node\" id=\"node9\">\n<title>140473823384184</title>\n<polygon fill=\"none\" points=\"0,-292.5 0,-328.5 221,-328.5 221,-292.5 0,-292.5\" stroke=\"#000000\"/>\n<text fill=\"#000000\" font-family=\"Times,serif\" font-size=\"14.00\" text-anchor=\"middle\" x=\"110.5\" y=\"-306.8\">max_pooling2d_4: MaxPooling2D</text>\n</g>\n<!-- 140473823337328&#45;&gt;140473823384184 -->\n<g class=\"edge\" id=\"edge8\">\n<title>140473823337328-&gt;140473823384184</title>\n<path d=\"M110.5,-365.4551C110.5,-357.3828 110.5,-347.6764 110.5,-338.6817\" fill=\"none\" stroke=\"#000000\"/>\n<polygon fill=\"#000000\" points=\"114.0001,-338.5903 110.5,-328.5904 107.0001,-338.5904 114.0001,-338.5903\" stroke=\"#000000\"/>\n</g>\n<!-- 140473823361008 -->\n<g class=\"node\" id=\"node10\">\n<title>140473823361008</title>\n<polygon fill=\"none\" points=\"54,-219.5 54,-255.5 167,-255.5 167,-219.5 54,-219.5\" stroke=\"#000000\"/>\n<text fill=\"#000000\" font-family=\"Times,serif\" font-size=\"14.00\" text-anchor=\"middle\" x=\"110.5\" y=\"-233.8\">flatten_1: Flatten</text>\n</g>\n<!-- 140473823384184&#45;&gt;140473823361008 -->\n<g class=\"edge\" id=\"edge9\">\n<title>140473823384184-&gt;140473823361008</title>\n<path d=\"M110.5,-292.4551C110.5,-284.3828 110.5,-274.6764 110.5,-265.6817\" fill=\"none\" stroke=\"#000000\"/>\n<polygon fill=\"#000000\" points=\"114.0001,-265.5903 110.5,-255.5904 107.0001,-265.5904 114.0001,-265.5903\" stroke=\"#000000\"/>\n</g>\n<!-- 140473823387096 -->\n<g class=\"node\" id=\"node11\">\n<title>140473823387096</title>\n<polygon fill=\"none\" points=\"57,-146.5 57,-182.5 164,-182.5 164,-146.5 57,-146.5\" stroke=\"#000000\"/>\n<text fill=\"#000000\" font-family=\"Times,serif\" font-size=\"14.00\" text-anchor=\"middle\" x=\"110.5\" y=\"-160.8\">dense_1: Dense</text>\n</g>\n<!-- 140473823361008&#45;&gt;140473823387096 -->\n<g class=\"edge\" id=\"edge10\">\n<title>140473823361008-&gt;140473823387096</title>\n<path d=\"M110.5,-219.4551C110.5,-211.3828 110.5,-201.6764 110.5,-192.6817\" fill=\"none\" stroke=\"#000000\"/>\n<polygon fill=\"#000000\" points=\"114.0001,-192.5903 110.5,-182.5904 107.0001,-192.5904 114.0001,-192.5903\" stroke=\"#000000\"/>\n</g>\n<!-- 140473823415096 -->\n<g class=\"node\" id=\"node12\">\n<title>140473823415096</title>\n<polygon fill=\"none\" points=\"33.5,-73.5 33.5,-109.5 187.5,-109.5 187.5,-73.5 33.5,-73.5\" stroke=\"#000000\"/>\n<text fill=\"#000000\" font-family=\"Times,serif\" font-size=\"14.00\" text-anchor=\"middle\" x=\"110.5\" y=\"-87.8\">activation_1: Activation</text>\n</g>\n<!-- 140473823387096&#45;&gt;140473823415096 -->\n<g class=\"edge\" id=\"edge11\">\n<title>140473823387096-&gt;140473823415096</title>\n<path d=\"M110.5,-146.4551C110.5,-138.3828 110.5,-128.6764 110.5,-119.6817\" fill=\"none\" stroke=\"#000000\"/>\n<polygon fill=\"#000000\" points=\"114.0001,-119.5903 110.5,-109.5904 107.0001,-119.5904 114.0001,-119.5903\" stroke=\"#000000\"/>\n</g>\n<!-- 140473823439392 -->\n<g class=\"node\" id=\"node13\">\n<title>140473823439392</title>\n<polygon fill=\"none\" points=\"57,-.5 57,-36.5 164,-36.5 164,-.5 57,-.5\" stroke=\"#000000\"/>\n<text fill=\"#000000\" font-family=\"Times,serif\" font-size=\"14.00\" text-anchor=\"middle\" x=\"110.5\" y=\"-14.8\">dense_2: Dense</text>\n</g>\n<!-- 140473823415096&#45;&gt;140473823439392 -->\n<g class=\"edge\" id=\"edge12\">\n<title>140473823415096-&gt;140473823439392</title>\n<path d=\"M110.5,-73.4551C110.5,-65.3828 110.5,-55.6764 110.5,-46.6817\" fill=\"none\" stroke=\"#000000\"/>\n<polygon fill=\"#000000\" points=\"114.0001,-46.5903 110.5,-36.5904 107.0001,-46.5904 114.0001,-46.5903\" stroke=\"#000000\"/>\n</g>\n</g>\n</svg>"
          },
          "metadata": {
            "tags": []
          },
          "execution_count": 27
        }
      ]
    }
  ]
}